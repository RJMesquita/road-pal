{
 "cells": [
  {
   "cell_type": "markdown",
   "id": "60c265e3",
   "metadata": {},
   "source": [
    "# Ingestion"
   ]
  },
  {
   "cell_type": "markdown",
   "id": "9f47c5fa",
   "metadata": {},
   "source": [
    "Prepare data for vector store."
   ]
  },
  {
   "cell_type": "code",
   "execution_count": null,
   "id": "2e386dc4",
   "metadata": {},
   "outputs": [],
   "source": [
    "import json\n",
    "import sys\n",
    "import os\n",
    "\n",
    "\n",
    "from langchain_community.vectorstores import SupabaseVectorStore\n",
    "from langchain_openai import OpenAIEmbeddings\n",
    "from langchain_core.documents import Document\n",
    "from supabase import create_client, Client\n",
    "from dotenv import load_dotenv\n",
    "from loguru import logger\n",
    "\n",
    "sys.path.append(\"/Users/ricardo.mesquita/Documents/Trainings/code4all/road_pal\")  # TODO: resolve relative import properly\n",
    "from notebooks.ingestion._utils import ingest_via_pdf, ingest_markdown_questions"
   ]
  },
  {
   "cell_type": "markdown",
   "id": "eb69904b",
   "metadata": {
    "vscode": {
     "languageId": "plaintext"
    }
   },
   "source": [
    "## Configurations"
   ]
  },
  {
   "cell_type": "code",
   "execution_count": null,
   "id": "9131132c",
   "metadata": {},
   "outputs": [],
   "source": [
    "# Setup logging\n",
    "logger.remove()\n",
    "logger.add(\n",
    "    sys.stdout,\n",
    "    colorize=True,\n",
    "    format=\"<level>{time:YYYY-MM-DD HH:mm:ss} | {level: <8} | {message}</level>\",\n",
    "    level=\"SUCCESS\"\n",
    ")"
   ]
  },
  {
   "cell_type": "code",
   "execution_count": null,
   "id": "c6e48381",
   "metadata": {},
   "outputs": [],
   "source": [
    "# Load environment variables from .env file\n",
    "load_dotenv()\n",
    "api_key = os.environ.get(\"OPENAI_API_KEY\")\n",
    "supabase_url = os.environ.get(\"SUPABASE_URL\")\n",
    "supabase_api_key = os.environ.get(\"SUPABASE_API_KEY\")"
   ]
  },
  {
   "cell_type": "code",
   "execution_count": null,
   "id": "dca791d2",
   "metadata": {},
   "outputs": [],
   "source": [
    "if not all([api_key, supabase_url, supabase_api_key]):\n",
    "    logger.critical(\"Error: Please set SUPABASE_URL, SUPABASE_KEY, and OPENAI_API_KEY environment variables.\")\n",
    "    logger.critical(\"You can do it by creating a .env file or setting them directly in your environment.\")\n",
    "    exit(1)"
   ]
  },
  {
   "cell_type": "markdown",
   "id": "fdedfa4b",
   "metadata": {},
   "source": [
    "## 1. Document Loading and Cleaning"
   ]
  },
  {
   "cell_type": "markdown",
   "id": "2536f70a",
   "metadata": {},
   "source": [
    "### Via PDF"
   ]
  },
  {
   "cell_type": "code",
   "execution_count": null,
   "id": "23084518",
   "metadata": {},
   "outputs": [],
   "source": [
    "# Define pdf path to be ingested \n",
    "pdf_file_path = \"/Users/ricardo.mesquita/Documents/Trainings/code4all/road_pal/data/codigo_estrada.pdf\"\n",
    "\n",
    "# Define your manual metadata\n",
    "manual_metadata = {\n",
    "    \"source\": \"Código da Estrada, Decreto-Lei n.º 114/94, de 3 de maio\",\n",
    "    \"date\": \"2020-12-09\",\n",
    "    \"description\": \"Republicação do Código da Estrada, com disposições gerais, regras de trânsito, veículos, habilitação legal para conduzir, responsabilidade e procedimentos de fiscalização.\",\n",
    "    \"language\": \"Portuguese\",\n",
    "    \"title\": \"Código da Estrada\"\n",
    "}\n",
    "\n",
    "# Ingest the PDF\n",
    "ingested_data = ingest_via_pdf(pdf_file_path, manual_metadata)\n",
    "\n",
    "# To use with a vector store, you would typically convert these into a format\n",
    "# compatible with your chosen vector store (e.g., Langchain Document objects or direct embeddings)\n",
    "langchain_documents = [\n",
    "    Document(page_content=item['content'], metadata=item['metadata'])\n",
    "    for item in ingested_data\n",
    "]"
   ]
  },
  {
   "cell_type": "markdown",
   "id": "07da9431",
   "metadata": {},
   "source": [
    "### Via Markdown"
   ]
  },
  {
   "cell_type": "code",
   "execution_count": null,
   "id": "85962cb7",
   "metadata": {},
   "outputs": [],
   "source": [
    "# Example usage:\n",
    "md_file_path = \"/Users/ricardo.mesquita/Documents/Trainings/code4all/road_pal/data/bom_condutor.md\"\n",
    "markdown_metadata = {\n",
    "    \"source\": \"Bom Condutor\",\n",
    "    \"date\": \"2025-06-21\",\n",
    "    \"description\": \"Questões de exemplo sobre o Código da Estrada, incluindo perguntas, opções e respostas corretas.\",\n",
    "    \"language\": \"Portuguese\",\n",
    "    \"title\": \"Testes de Código da Estrada\"\n",
    "}\n",
    "\n",
    "langchain_documents = ingest_markdown_questions(md_file_path, markdown_metadata)"
   ]
  },
  {
   "cell_type": "markdown",
   "id": "36b16397",
   "metadata": {},
   "source": [
    "### Check Documents for DB Population"
   ]
  },
  {
   "cell_type": "code",
   "execution_count": null,
   "id": "75ee3d2a",
   "metadata": {},
   "outputs": [],
   "source": [
    "langchain_documents[0]"
   ]
  },
  {
   "cell_type": "markdown",
   "id": "5a910a77",
   "metadata": {},
   "source": [
    "## 3. Embeddings"
   ]
  },
  {
   "cell_type": "code",
   "execution_count": null,
   "id": "93433f7c",
   "metadata": {},
   "outputs": [],
   "source": [
    "# Initialize the OpenAI embeddings model.\n",
    "# This model will convert text chunks into numerical vector representations.\n",
    "embeddings_model = OpenAIEmbeddings(openai_api_key=api_key, model=\"text-embedding-3-small\")"
   ]
  },
  {
   "cell_type": "markdown",
   "id": "fd755266",
   "metadata": {},
   "source": [
    "## 4. Populate Supabase Vector Store"
   ]
  },
  {
   "cell_type": "code",
   "execution_count": null,
   "id": "9ad4ab0a",
   "metadata": {},
   "outputs": [],
   "source": [
    "# Initialize Supabase client (using service key for server-side operations)\n",
    "supabase_client: Client = create_client(supabase_url, supabase_api_key)\n",
    "logger.success(\"Successfully initialized Supabase client.\")\n",
    "\n",
    "def populate_supabase_with_langchain(documents: list[Document]):\n",
    "    \"\"\"\n",
    "    Populates a Supabase vector store using Langchain's SupabaseVectorStore.\n",
    "\n",
    "    Args:\n",
    "        documents (list[Document]): A list of Langchain Document objects.\n",
    "    \"\"\"\n",
    "    logger.info(f\"Attempting to add {len(documents)} documents to Supabase via Langchain...\")\n",
    "    try:\n",
    "        # Initialize SupabaseVectorStore\n",
    "        # This will handle embedding the documents and upserting them.\n",
    "        # The 'table_name' should match your table in Supabase (e.g., 'documents').\n",
    "        # The 'query_name' is the name of the RPC function for similarity search (usually 'match_documents').\n",
    "        # TODO: Improve insert authentication on supabase table\n",
    "        vectorstore = SupabaseVectorStore.from_documents(\n",
    "            documents,\n",
    "            embeddings_model,\n",
    "            client=supabase_client,\n",
    "            table_name=\"documents\", # Your table name\n",
    "            query_name=\"match_documents\" # Your RPC function name for similarity search\n",
    "        )\n",
    "        logger.success(\"Documents successfully added to Supabase using Langchain's SupabaseVectorStore.\")\n",
    "        return vectorstore\n",
    "    except Exception as e:\n",
    "        logger.error(f\"Error populating Supabase with Langchain: {e}\")\n",
    "        return None\n",
    "\n",
    "# Populate the vector store\n",
    "vectorstore = populate_supabase_with_langchain(langchain_documents)"
   ]
  },
  {
   "cell_type": "code",
   "execution_count": null,
   "id": "6c8d57b4",
   "metadata": {},
   "outputs": [],
   "source": [
    "def query_supabase_vector_store(vectorstore: SupabaseVectorStore, query_text: str):\n",
    "    \"\"\"\n",
    "    Performs a similarity search on the Supabase vector store.\n",
    "\n",
    "    Args:\n",
    "        vectorstore (SupabaseVectorStore): The initialized SupabaseVectorStore instance.\n",
    "        query_text (str): The query string to search for.\n",
    "\n",
    "    Returns:\n",
    "        list: A list of relevant documents.\n",
    "    \"\"\"\n",
    "    if vectorstore:\n",
    "        logger.info(f\"\\nSearching for documents similar to: '{query_text}'\")\n",
    "        # Perform similarity search\n",
    "        # k is the number of similar documents to retrieve\n",
    "        docs = vectorstore.similarity_search(query_text, k=5)\n",
    "        logger.info(\"Search results:\")\n",
    "        for doc in docs:\n",
    "            logger.info(f\"  Content: {doc.page_content[:200]}...\") # Print first 200 chars\n",
    "            logger.info(f\"  Metadata: {json.dumps(doc.metadata, indent=2, ensure_ascii=False)}\")\n",
    "            logger.info(\"-\" * 30)\n",
    "        return docs\n",
    "    else:\n",
    "        logger.error(\"Vector store not initialized! Cannot perform query ...\")\n",
    "        return []\n",
    "\n",
    "# Test queries\n",
    "query_supabase_vector_store(vectorstore, \"Quais são as regras para conduzir em rotundas?\")\n",
    "query_supabase_vector_store(vectorstore, \"Qual a velocidade máxima em autoestrada para ligeiros?\")\n",
    "query_supabase_vector_store(vectorstore, \"O que acontece se eu for apanhado a conduzir embriagado?\")"
   ]
  }
 ],
 "metadata": {
  "kernelspec": {
   "display_name": "Python (Road Pal Kernel)",
   "language": "python",
   "name": "road_pal_kernel"
  },
  "language_info": {
   "codemirror_mode": {
    "name": "ipython",
    "version": 3
   },
   "file_extension": ".py",
   "mimetype": "text/x-python",
   "name": "python",
   "nbconvert_exporter": "python",
   "pygments_lexer": "ipython3",
   "version": "3.12.0"
  }
 },
 "nbformat": 4,
 "nbformat_minor": 5
}
